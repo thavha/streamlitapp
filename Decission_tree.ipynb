{
 "cells": [
  {
   "cell_type": "code",
   "execution_count": 1,
   "metadata": {},
   "outputs": [],
   "source": [
    "import pandas as pd\n",
    "\n",
    "import re\n",
    "from nltk.corpus import stopwords\n",
    "from nltk.stem.snowball import SnowballStemmer\n",
    "import string\n",
    "from nltk import SnowballStemmer, PorterStemmer, LancasterStemmer\n",
    "from sklearn.model_selection import train_test_split\n",
    "from sklearn.metrics import classification_report\n",
    "from sklearn.tree import DecisionTreeClassifier\n",
    "from collections import Counter\n",
    "from nltk.tokenize import word_tokenize\n",
    "from nltk.tokenize import TweetTokenizer\n",
    "\n",
    "import warnings\n",
    "warnings.filterwarnings(\"ignore\")\n"
   ]
  },
  {
   "cell_type": "code",
   "execution_count": 2,
   "metadata": {},
   "outputs": [
    {
     "data": {
      "text/plain": [
       "\"RT @SoyNovioDeTodas: It's 2016, and a racist, sexist, climate change denying bigot is leading in the polls. #ElectionNight\""
      ]
     },
     "execution_count": 2,
     "metadata": {},
     "output_type": "execute_result"
    }
   ],
   "source": [
    "raw = pd.read_csv(\"/workspaces/codespaces-jupyter/data/train.csv\")\n",
    "raw.head()\n",
    "raw['message'][4]"
   ]
  },
  {
   "cell_type": "code",
   "execution_count": 3,
   "metadata": {},
   "outputs": [
    {
     "data": {
      "text/plain": [
       "['rt',\n",
       " '@soynoviodetodas',\n",
       " ':',\n",
       " \"it's\",\n",
       " '2016',\n",
       " ',',\n",
       " 'and',\n",
       " 'a',\n",
       " 'racist',\n",
       " ',',\n",
       " 'sexist',\n",
       " ',',\n",
       " 'climate',\n",
       " 'change',\n",
       " 'denying',\n",
       " 'bigot',\n",
       " 'is',\n",
       " 'leading',\n",
       " 'in',\n",
       " 'the',\n",
       " 'polls',\n",
       " '.',\n",
       " '#electionnight']"
      ]
     },
     "execution_count": 3,
     "metadata": {},
     "output_type": "execute_result"
    }
   ],
   "source": [
    "raw['message'] = raw['message'].str.lower()\n",
    "tt = TweetTokenizer()\n",
    "raw['message']= raw['message'].apply(tt.tokenize)\n",
    "raw['message'][4]"
   ]
  },
  {
   "cell_type": "code",
   "execution_count": 4,
   "metadata": {},
   "outputs": [],
   "source": [
    "#stopwords_list = stopwords.words('english')\n",
    "def remove_stop_words(tokens):    \n",
    "    return [t for t in tokens if t not in stopwords.words('english')]\n",
    "raw['message'] = raw['message'].apply(remove_stop_words)"
   ]
  },
  {
   "cell_type": "code",
   "execution_count": 5,
   "metadata": {},
   "outputs": [
    {
     "data": {
      "text/plain": [
       "['rt',\n",
       " '@soynoviodetodas',\n",
       " ':',\n",
       " '2016',\n",
       " ',',\n",
       " 'racist',\n",
       " ',',\n",
       " 'sexist',\n",
       " ',',\n",
       " 'climate',\n",
       " 'change',\n",
       " 'denying',\n",
       " 'bigot',\n",
       " 'leading',\n",
       " 'polls',\n",
       " '.',\n",
       " '#electionnight']"
      ]
     },
     "execution_count": 5,
     "metadata": {},
     "output_type": "execute_result"
    }
   ],
   "source": [
    "#raw[\"message\"] = raw[\"message\"].apply(''.join)\n",
    "raw_stopped = raw.copy()\n",
    "raw_stopped['message'][4]"
   ]
  },
  {
   "cell_type": "code",
   "execution_count": 6,
   "metadata": {},
   "outputs": [
    {
     "data": {
      "text/plain": [
       "'rt @soynoviodetodas :  , racist , sexist , climate change denying bigot leading polls . #electionnight'"
      ]
     },
     "execution_count": 6,
     "metadata": {},
     "output_type": "execute_result"
    }
   ],
   "source": [
    "raw_stopped[\"message\"] = raw_stopped[\"message\"].apply(' '.join)\n",
    "raw_stopped['message'] = raw_stopped['message'].str.replace('\\d+', '')\n",
    "raw_stopped['message'][4]"
   ]
  },
  {
   "cell_type": "code",
   "execution_count": 7,
   "metadata": {},
   "outputs": [
    {
     "data": {
      "text/html": [
       "<div>\n",
       "<style scoped>\n",
       "    .dataframe tbody tr th:only-of-type {\n",
       "        vertical-align: middle;\n",
       "    }\n",
       "\n",
       "    .dataframe tbody tr th {\n",
       "        vertical-align: top;\n",
       "    }\n",
       "\n",
       "    .dataframe thead th {\n",
       "        text-align: right;\n",
       "    }\n",
       "</style>\n",
       "<table border=\"1\" class=\"dataframe\">\n",
       "  <thead>\n",
       "    <tr style=\"text-align: right;\">\n",
       "      <th></th>\n",
       "      <th>sentiment</th>\n",
       "      <th>message</th>\n",
       "      <th>tweetid</th>\n",
       "    </tr>\n",
       "  </thead>\n",
       "  <tbody>\n",
       "    <tr>\n",
       "      <th>0</th>\n",
       "      <td>1</td>\n",
       "      <td>polyscimajor epa chief think carbon dioxide ma...</td>\n",
       "      <td>625221</td>\n",
       "    </tr>\n",
       "    <tr>\n",
       "      <th>1</th>\n",
       "      <td>1</td>\n",
       "      <td>like lack evidence anthropogenic global warming</td>\n",
       "      <td>126103</td>\n",
       "    </tr>\n",
       "    <tr>\n",
       "      <th>2</th>\n",
       "      <td>2</td>\n",
       "      <td>rt @rawstory : researchers say three years act...</td>\n",
       "      <td>698562</td>\n",
       "    </tr>\n",
       "    <tr>\n",
       "      <th>3</th>\n",
       "      <td>1</td>\n",
       "      <td>#todayinmaker # wired :  pivotal year war clim...</td>\n",
       "      <td>573736</td>\n",
       "    </tr>\n",
       "    <tr>\n",
       "      <th>4</th>\n",
       "      <td>1</td>\n",
       "      <td>rt @soynoviodetodas :  , racist , sexist , cli...</td>\n",
       "      <td>466954</td>\n",
       "    </tr>\n",
       "  </tbody>\n",
       "</table>\n",
       "</div>"
      ],
      "text/plain": [
       "   sentiment                                            message  tweetid\n",
       "0          1  polyscimajor epa chief think carbon dioxide ma...   625221\n",
       "1          1    like lack evidence anthropogenic global warming   126103\n",
       "2          2  rt @rawstory : researchers say three years act...   698562\n",
       "3          1  #todayinmaker # wired :  pivotal year war clim...   573736\n",
       "4          1  rt @soynoviodetodas :  , racist , sexist , cli...   466954"
      ]
     },
     "execution_count": 7,
     "metadata": {},
     "output_type": "execute_result"
    }
   ],
   "source": [
    "raw_stopped.head()"
   ]
  },
  {
   "cell_type": "code",
   "execution_count": 8,
   "metadata": {},
   "outputs": [],
   "source": [
    "def remove_RT(column_name):\n",
    "    return re.sub(r'^rt[\\s]+', '',column_name)"
   ]
  },
  {
   "cell_type": "code",
   "execution_count": 9,
   "metadata": {},
   "outputs": [
    {
     "data": {
      "text/plain": [
       "'@soynoviodetodas :  , racist , sexist , climate change denying bigot leading polls . #electionnight'"
      ]
     },
     "execution_count": 9,
     "metadata": {},
     "output_type": "execute_result"
    }
   ],
   "source": [
    "raw_stopped['message']= raw_stopped['message'].apply(remove_RT)\n",
    "raw_stopped['message'][4]"
   ]
  },
  {
   "cell_type": "code",
   "execution_count": 10,
   "metadata": {},
   "outputs": [
    {
     "data": {
      "text/html": [
       "<div>\n",
       "<style scoped>\n",
       "    .dataframe tbody tr th:only-of-type {\n",
       "        vertical-align: middle;\n",
       "    }\n",
       "\n",
       "    .dataframe tbody tr th {\n",
       "        vertical-align: top;\n",
       "    }\n",
       "\n",
       "    .dataframe thead th {\n",
       "        text-align: right;\n",
       "    }\n",
       "</style>\n",
       "<table border=\"1\" class=\"dataframe\">\n",
       "  <thead>\n",
       "    <tr style=\"text-align: right;\">\n",
       "      <th></th>\n",
       "      <th>sentiment</th>\n",
       "      <th>message</th>\n",
       "      <th>tweetid</th>\n",
       "    </tr>\n",
       "  </thead>\n",
       "  <tbody>\n",
       "    <tr>\n",
       "      <th>0</th>\n",
       "      <td>1</td>\n",
       "      <td>polyscimajor epa chief think carbon dioxide ma...</td>\n",
       "      <td>625221</td>\n",
       "    </tr>\n",
       "    <tr>\n",
       "      <th>1</th>\n",
       "      <td>1</td>\n",
       "      <td>like lack evidence anthropogenic global warming</td>\n",
       "      <td>126103</td>\n",
       "    </tr>\n",
       "    <tr>\n",
       "      <th>2</th>\n",
       "      <td>2</td>\n",
       "      <td>: researchers say three years act climate ch...</td>\n",
       "      <td>698562</td>\n",
       "    </tr>\n",
       "    <tr>\n",
       "      <th>3</th>\n",
       "      <td>1</td>\n",
       "      <td>#todayinmaker # wired :  pivotal year war clim...</td>\n",
       "      <td>573736</td>\n",
       "    </tr>\n",
       "    <tr>\n",
       "      <th>4</th>\n",
       "      <td>1</td>\n",
       "      <td>:  , racist , sexist , climate change denyin...</td>\n",
       "      <td>466954</td>\n",
       "    </tr>\n",
       "    <tr>\n",
       "      <th>5</th>\n",
       "      <td>1</td>\n",
       "      <td>worth read whether believe climate change http...</td>\n",
       "      <td>425577</td>\n",
       "    </tr>\n",
       "    <tr>\n",
       "      <th>6</th>\n",
       "      <td>1</td>\n",
       "      <td>: mike pence ’ believe global warming smokin...</td>\n",
       "      <td>294933</td>\n",
       "    </tr>\n",
       "    <tr>\n",
       "      <th>7</th>\n",
       "      <td>1</td>\n",
       "      <td>: six big things today fight climate change ...</td>\n",
       "      <td>992717</td>\n",
       "    </tr>\n",
       "    <tr>\n",
       "      <th>8</th>\n",
       "      <td>1</td>\n",
       "      <td>yo nephew inconsolable . wants die old age l...</td>\n",
       "      <td>664510</td>\n",
       "    </tr>\n",
       "    <tr>\n",
       "      <th>9</th>\n",
       "      <td>1</td>\n",
       "      <td>: offense … like … believe … global warming ...</td>\n",
       "      <td>260471</td>\n",
       "    </tr>\n",
       "  </tbody>\n",
       "</table>\n",
       "</div>"
      ],
      "text/plain": [
       "   sentiment                                            message  tweetid\n",
       "0          1  polyscimajor epa chief think carbon dioxide ma...   625221\n",
       "1          1    like lack evidence anthropogenic global warming   126103\n",
       "2          2    : researchers say three years act climate ch...   698562\n",
       "3          1  #todayinmaker # wired :  pivotal year war clim...   573736\n",
       "4          1    :  , racist , sexist , climate change denyin...   466954\n",
       "5          1  worth read whether believe climate change http...   425577\n",
       "6          1    : mike pence ’ believe global warming smokin...   294933\n",
       "7          1    : six big things today fight climate change ...   992717\n",
       "8          1    yo nephew inconsolable . wants die old age l...   664510\n",
       "9          1    : offense … like … believe … global warming ...   260471"
      ]
     },
     "execution_count": 10,
     "metadata": {},
     "output_type": "execute_result"
    }
   ],
   "source": [
    "def remove_handels(post):\n",
    "    return re.sub('@[^\\s]+',' ',post)\n",
    "\n",
    "raw_stopped['message']= raw_stopped['message'].apply(remove_handels)\n",
    "raw_stopped.head(10)"
   ]
  },
  {
   "cell_type": "code",
   "execution_count": 11,
   "metadata": {},
   "outputs": [
    {
     "name": "stdout",
     "output_type": "stream",
     "text": [
      "  : researchers say three years act climate change ’ late    …\n"
     ]
    }
   ],
   "source": [
    "pattern_url = r'http[s]?://(?:[A-Za-z]|[0-9]|[$-_@.&+]|[!*\\(\\),]|(?:%[0-9A-Fa-f][0-9A-Fa-f]))+'\n",
    "raw_stopped['message'] = raw_stopped['message'].replace(to_replace = pattern_url,value = \" \", regex = True)\n",
    "print(raw_stopped[\"message\"][2])"
   ]
  },
  {
   "cell_type": "code",
   "execution_count": 12,
   "metadata": {},
   "outputs": [
    {
     "name": "stdout",
     "output_type": "stream",
     "text": [
      "  :  , racist , sexist , climate change denying bigot leading polls .  \n"
     ]
    }
   ],
   "source": [
    "def remove_hashtages(post):\n",
    "    return re.sub('#[^\\s]+',' ',post)\n",
    "\n",
    "raw_stopped['message']= raw_stopped['message'].apply(remove_hashtages)\n",
    "print(raw_stopped[\"message\"][4])"
   ]
  },
  {
   "cell_type": "code",
   "execution_count": 13,
   "metadata": {},
   "outputs": [
    {
     "name": "stdout",
     "output_type": "stream",
     "text": [
      "     racist  sexist  climate change denying bigot leading polls   \n"
     ]
    }
   ],
   "source": [
    "def remove_punctuation(post):\n",
    "    return ''.join([l for l in post if l not in string.punctuation])\n",
    "\n",
    "\n",
    "raw_stopped[\"message\"] = raw_stopped[\"message\"].apply(remove_punctuation)\n",
    "print(raw_stopped[\"message\"][4])"
   ]
  },
  {
   "cell_type": "code",
   "execution_count": 14,
   "metadata": {},
   "outputs": [
    {
     "name": "stderr",
     "output_type": "stream",
     "text": [
      "[nltk_data] Downloading package wordnet to\n",
      "[nltk_data]     /home/codespace/nltk_data...\n",
      "[nltk_data]   Package wordnet is already up-to-date!\n"
     ]
    }
   ],
   "source": [
    "raw_stopped['message'] = raw_stopped['message'].str.split()\n",
    "# steming\n",
    "import nltk\n",
    "from nltk.stem import WordNetLemmatizer\n",
    "nltk.download('wordnet')\n",
    "lemmatizer = WordNetLemmatizer()\n",
    "def mbti_lemma(words, lemmatizer):\n",
    "    return [lemmatizer.lemmatize(word) for word in words] \n",
    "\n",
    "#raw_stopped['message'] = raw_stopped['message'].apply(mbti_lemma, args=(lemmatizer))\n",
    "\n",
    "\n",
    "stemmer = SnowballStemmer(\"english\")\n",
    "raw_stopped['message'] = raw_stopped['message'].apply(lambda x: [stemmer.stem(y) for y in x])"
   ]
  },
  {
   "cell_type": "code",
   "execution_count": 15,
   "metadata": {},
   "outputs": [
    {
     "data": {
      "text/plain": [
       "['racist', 'sexist', 'climat', 'chang', 'deni', 'bigot', 'lead', 'poll']"
      ]
     },
     "execution_count": 15,
     "metadata": {},
     "output_type": "execute_result"
    }
   ],
   "source": [
    "raw_stopped['message'][4]"
   ]
  },
  {
   "cell_type": "code",
   "execution_count": 16,
   "metadata": {},
   "outputs": [
    {
     "name": "stdout",
     "output_type": "stream",
     "text": [
      " 1    8530\n",
      " 2    3640\n",
      " 0    2353\n",
      "-1    1296\n",
      "Name: sentiment, dtype: int64\n"
     ]
    }
   ],
   "source": [
    "sentiment_counts = raw_stopped['sentiment'].value_counts()\n",
    "print(sentiment_counts)"
   ]
  },
  {
   "cell_type": "code",
   "execution_count": 17,
   "metadata": {},
   "outputs": [
    {
     "data": {
      "text/plain": [
       "Text(0, 0.5, 'Count')"
      ]
     },
     "execution_count": 17,
     "metadata": {},
     "output_type": "execute_result"
    },
    {
     "data": {
      "image/png": "[encoded data removed]",
      "text/plain": [
       "<Figure size 640x480 with 1 Axes>"
      ]
     },
     "metadata": {},
     "output_type": "display_data"
    }
   ],
   "source": [
    "sentiment_counts = raw_stopped['sentiment'].value_counts()\n",
    "sentiment_labels = {\n",
    "    '-1': '-1:Anti',\n",
    "    '0': '0:Neutral',\n",
    "    '1': '1:Pro',\n",
    "    '2': '2:News'\n",
    "}\n",
    "\n",
    "# Assuming there are an odd number of sentiment classes\n",
    "middle_class_index = len(sentiment_counts) // 2\n",
    "middle_class = sentiment_counts.index[middle_class_index]\n",
    "middle_count = sentiment_counts.loc[middle_class]\n",
    "\n",
    "oversampled_raw = pd.concat([raw_stopped[raw_stopped['sentiment'] == middle_class]] +\n",
    "                            [raw_stopped[raw_stopped['sentiment'] == sentiment].sample(middle_count, replace=True) \n",
    "                             for sentiment in sentiment_counts.index if sentiment != middle_class])\n",
    "\n",
    "\n",
    "ax = oversampled_raw['sentiment'].value_counts().plot(kind='bar')\n",
    "ax.set_xticklabels([sentiment_labels.get(str(sentiment), 'Unknown') for sentiment in sentiment_counts.index])\n",
    "ax.set_ylabel('Count')\n"
   ]
  },
  {
   "cell_type": "code",
   "execution_count": 18,
   "metadata": {},
   "outputs": [
    {
     "name": "stdout",
     "output_type": "stream",
     "text": [
      " 0    2353\n",
      " 1    2353\n",
      " 2    2353\n",
      "-1    2353\n",
      "Name: sentiment, dtype: int64\n"
     ]
    }
   ],
   "source": [
    "sentiment_counts = oversampled_raw['sentiment'].value_counts()\n",
    "print(sentiment_counts)"
   ]
  },
  {
   "cell_type": "code",
   "execution_count": 19,
   "metadata": {},
   "outputs": [
    {
     "data": {
      "text/html": [
       "<div>\n",
       "<style scoped>\n",
       "    .dataframe tbody tr th:only-of-type {\n",
       "        vertical-align: middle;\n",
       "    }\n",
       "\n",
       "    .dataframe tbody tr th {\n",
       "        vertical-align: top;\n",
       "    }\n",
       "\n",
       "    .dataframe thead th {\n",
       "        text-align: right;\n",
       "    }\n",
       "</style>\n",
       "<table border=\"1\" class=\"dataframe\">\n",
       "  <thead>\n",
       "    <tr style=\"text-align: right;\">\n",
       "      <th></th>\n",
       "      <th>sentiment</th>\n",
       "      <th>message</th>\n",
       "      <th>tweetid</th>\n",
       "    </tr>\n",
       "  </thead>\n",
       "  <tbody>\n",
       "    <tr>\n",
       "      <th>19</th>\n",
       "      <td>0</td>\n",
       "      <td>[calum, tweet, abt, reunitingish, w, cast, see...</td>\n",
       "      <td>547924</td>\n",
       "    </tr>\n",
       "    <tr>\n",
       "      <th>22</th>\n",
       "      <td>0</td>\n",
       "      <td>[also, met, guy, let, us, truth, climat, chang...</td>\n",
       "      <td>67545</td>\n",
       "    </tr>\n",
       "    <tr>\n",
       "      <th>30</th>\n",
       "      <td>0</td>\n",
       "      <td>[scientist, denounc, climat, chang, choic]</td>\n",
       "      <td>365051</td>\n",
       "    </tr>\n",
       "    <tr>\n",
       "      <th>39</th>\n",
       "      <td>0</td>\n",
       "      <td>[’, dealt, simpl, issu, like, climat, chang, e...</td>\n",
       "      <td>403368</td>\n",
       "    </tr>\n",
       "    <tr>\n",
       "      <th>43</th>\n",
       "      <td>0</td>\n",
       "      <td>[win, probabl, bullshit, man, saw, nba, final,...</td>\n",
       "      <td>326916</td>\n",
       "    </tr>\n",
       "    <tr>\n",
       "      <th>...</th>\n",
       "      <td>...</td>\n",
       "      <td>...</td>\n",
       "      <td>...</td>\n",
       "    </tr>\n",
       "    <tr>\n",
       "      <th>4606</th>\n",
       "      <td>-1</td>\n",
       "      <td>[hottest, year, record, us, suit, global, warm...</td>\n",
       "      <td>925076</td>\n",
       "    </tr>\n",
       "    <tr>\n",
       "      <th>1705</th>\n",
       "      <td>-1</td>\n",
       "      <td>[climat, chang, chines, hoax, man]</td>\n",
       "      <td>547368</td>\n",
       "    </tr>\n",
       "    <tr>\n",
       "      <th>6512</th>\n",
       "      <td>-1</td>\n",
       "      <td>[need, worri, climat, chang, europ, time, musl...</td>\n",
       "      <td>650964</td>\n",
       "    </tr>\n",
       "    <tr>\n",
       "      <th>8807</th>\n",
       "      <td>-1</td>\n",
       "      <td>[wail, global, warm, alway, default, posit, th...</td>\n",
       "      <td>51154</td>\n",
       "    </tr>\n",
       "    <tr>\n",
       "      <th>9785</th>\n",
       "      <td>-1</td>\n",
       "      <td>[hey, obama, global, warm, real, come, cold, o...</td>\n",
       "      <td>118678</td>\n",
       "    </tr>\n",
       "  </tbody>\n",
       "</table>\n",
       "<p>9412 rows × 3 columns</p>\n",
       "</div>"
      ],
      "text/plain": [
       "      sentiment                                            message  tweetid\n",
       "19            0  [calum, tweet, abt, reunitingish, w, cast, see...   547924\n",
       "22            0  [also, met, guy, let, us, truth, climat, chang...    67545\n",
       "30            0         [scientist, denounc, climat, chang, choic]   365051\n",
       "39            0  [’, dealt, simpl, issu, like, climat, chang, e...   403368\n",
       "43            0  [win, probabl, bullshit, man, saw, nba, final,...   326916\n",
       "...         ...                                                ...      ...\n",
       "4606         -1  [hottest, year, record, us, suit, global, warm...   925076\n",
       "1705         -1                 [climat, chang, chines, hoax, man]   547368\n",
       "6512         -1  [need, worri, climat, chang, europ, time, musl...   650964\n",
       "8807         -1  [wail, global, warm, alway, default, posit, th...    51154\n",
       "9785         -1  [hey, obama, global, warm, real, come, cold, o...   118678\n",
       "\n",
       "[9412 rows x 3 columns]"
      ]
     },
     "execution_count": 19,
     "metadata": {},
     "output_type": "execute_result"
    }
   ],
   "source": [
    "oversampled_raw"
   ]
  },
  {
   "cell_type": "code",
   "execution_count": 20,
   "metadata": {},
   "outputs": [
    {
     "data": {
      "text/plain": [
       "['racist', 'sexist', 'climat', 'chang', 'deni', 'bigot', 'lead', 'poll']"
      ]
     },
     "execution_count": 20,
     "metadata": {},
     "output_type": "execute_result"
    }
   ],
   "source": [
    "raw_stopped['message'][4]"
   ]
  },
  {
   "cell_type": "code",
   "execution_count": 21,
   "metadata": {},
   "outputs": [],
   "source": [
    "y = oversampled_raw['sentiment']\n",
    "\n",
    "# features\n",
    "X =oversampled_raw.drop(['sentiment'], axis=1)"
   ]
  },
  {
   "cell_type": "code",
   "execution_count": 22,
   "metadata": {},
   "outputs": [
    {
     "data": {
      "text/plain": [
       "19      [calum, tweet, abt, reunitingish, w, cast, see...\n",
       "22      [also, met, guy, let, us, truth, climat, chang...\n",
       "30             [scientist, denounc, climat, chang, choic]\n",
       "39      [’, dealt, simpl, issu, like, climat, chang, e...\n",
       "43      [win, probabl, bullshit, man, saw, nba, final,...\n",
       "                              ...                        \n",
       "4606    [hottest, year, record, us, suit, global, warm...\n",
       "1705                   [climat, chang, chines, hoax, man]\n",
       "6512    [need, worri, climat, chang, europ, time, musl...\n",
       "8807    [wail, global, warm, alway, default, posit, th...\n",
       "9785    [hey, obama, global, warm, real, come, cold, o...\n",
       "Name: message, Length: 9412, dtype: object"
      ]
     },
     "execution_count": 22,
     "metadata": {},
     "output_type": "execute_result"
    }
   ],
   "source": [
    "X[\"message\"]"
   ]
  },
  {
   "cell_type": "code",
   "execution_count": 23,
   "metadata": {},
   "outputs": [],
   "source": [
    "X[\"message\"] = X[\"message\"].apply(' '.join)"
   ]
  },
  {
   "cell_type": "code",
   "execution_count": 24,
   "metadata": {},
   "outputs": [
    {
     "data": {
      "text/plain": [
       "19      calum tweet abt reunitingish w cast see repli ...\n",
       "22      also met guy let us truth climat chang gay peo...\n",
       "30                   scientist denounc climat chang choic\n",
       "39      ’ dealt simpl issu like climat chang energi po...\n",
       "43      win probabl bullshit man saw nba final that kn...\n",
       "                              ...                        \n",
       "4606    hottest year record us suit global warm agenda...\n",
       "1705                         climat chang chines hoax man\n",
       "6512    need worri climat chang europ time muslim kill...\n",
       "8807    wail global warm alway default posit thing lik...\n",
       "9785          hey obama global warm real come cold outsid\n",
       "Name: message, Length: 9412, dtype: object"
      ]
     },
     "execution_count": 24,
     "metadata": {},
     "output_type": "execute_result"
    }
   ],
   "source": [
    "X[\"message\"]"
   ]
  },
  {
   "cell_type": "code",
   "execution_count": 25,
   "metadata": {},
   "outputs": [],
   "source": [
    "# split data\n",
    "X_train, X_test, y_train, y_test = train_test_split(X, y, test_size=0.2, random_state=42)"
   ]
  },
  {
   "cell_type": "code",
   "execution_count": 26,
   "metadata": {},
   "outputs": [],
   "source": [
    "X_train =  X_train.drop(['tweetid'], axis=1)\n",
    "X_test_id =  pd.DataFrame(X_test[\"tweetid\"].reset_index(drop= True))\n",
    "X_test =  X_test.drop(['tweetid'], axis=1)"
   ]
  },
  {
   "cell_type": "code",
   "execution_count": 27,
   "metadata": {},
   "outputs": [],
   "source": [
    "from sklearn.feature_extraction.text import CountVectorizer\n",
    "\n",
    "betterVect = CountVectorizer(stop_words='english', \n",
    "                             min_df=2, \n",
    "                             max_df=0.5,\n",
    "                             ngram_range=(1, 1))"
   ]
  },
  {
   "cell_type": "code",
   "execution_count": null,
   "metadata": {},
   "outputs": [],
   "source": []
  },
  {
   "cell_type": "code",
   "execution_count": 28,
   "metadata": {},
   "outputs": [],
   "source": [
    "\n",
    "X_train_fitted = betterVect.fit_transform(X_train[\"message\"])\n",
    "X_test_counts = betterVect.transform(X_test[\"message\"])"
   ]
  },
  {
   "cell_type": "code",
   "execution_count": 29,
   "metadata": {},
   "outputs": [
    {
     "data": {
      "text/plain": [
       "<7529x3799 sparse matrix of type '<class 'numpy.int64'>'\n",
       "\twith 51187 stored elements in Compressed Sparse Row format>"
      ]
     },
     "execution_count": 29,
     "metadata": {},
     "output_type": "execute_result"
    }
   ],
   "source": [
    "X_train_fitted"
   ]
  },
  {
   "cell_type": "code",
   "execution_count": 30,
   "metadata": {},
   "outputs": [
    {
     "name": "stdout",
     "output_type": "stream",
     "text": [
      "Train Score: 0.994820029220348\n",
      "Test Score: 0.7020711630377058\n"
     ]
    }
   ],
   "source": [
    "from sklearn.tree import DecisionTreeClassifier\n",
    "\n",
    "dt = DecisionTreeClassifier()\n",
    "dt = dt.fit(X_train_fitted, y_train)\n",
    "\n",
    "print(f\"Train Score: {dt.score(X_train_fitted, y_train)}\")\n",
    "print(f\"Test Score: {dt.score(X_test_counts , y_test)}\")"
   ]
  },
  {
   "cell_type": "code",
   "execution_count": 31,
   "metadata": {},
   "outputs": [
    {
     "data": {
      "text/plain": [
       "array([-1, -1,  1, ...,  1,  1,  0])"
      ]
     },
     "execution_count": 31,
     "metadata": {},
     "output_type": "execute_result"
    }
   ],
   "source": [
    "dt_predections = dt.predict(X_test_counts)\n",
    "dt_predections"
   ]
  },
  {
   "cell_type": "code",
   "execution_count": 32,
   "metadata": {},
   "outputs": [
    {
     "data": {
      "text/plain": [
       "array([[422,  35,  20,  13],\n",
       "       [ 62, 265,  83,  53],\n",
       "       [ 36,  77, 280,  68],\n",
       "       [ 12,  56,  46, 355]])"
      ]
     },
     "execution_count": 32,
     "metadata": {},
     "output_type": "execute_result"
    }
   ],
   "source": [
    "from sklearn.metrics import confusion_matrix\n",
    "\n",
    "confusion_matrix(y_test, dt_predections)"
   ]
  },
  {
   "cell_type": "code",
   "execution_count": 33,
   "metadata": {},
   "outputs": [
    {
     "name": "stdout",
     "output_type": "stream",
     "text": [
      "              precision    recall  f1-score   support\n",
      "\n",
      "     -1:Anti       0.79      0.86      0.83       490\n",
      "   0:Neutral       0.61      0.57      0.59       463\n",
      "       1:Pro       0.65      0.61      0.63       461\n",
      "      2:News       0.73      0.76      0.74       469\n",
      "\n",
      "    accuracy                           0.70      1883\n",
      "   macro avg       0.70      0.70      0.70      1883\n",
      "weighted avg       0.70      0.70      0.70      1883\n",
      "\n"
     ]
    }
   ],
   "source": [
    "print(classification_report(y_test,dt_predections, target_names=['-1:Anti','0:Neutral','1:Pro','2:News']))"
   ]
  },
  {
   "cell_type": "code",
   "execution_count": 34,
   "metadata": {},
   "outputs": [],
   "source": [
    "from sklearn.model_selection import GridSearchCV\n",
    "\n",
    "params = {\n",
    "    \"max_depth\": [2,7,50],\n",
    "    \"min_samples_leaf\": [10,20,25,30,35,45,50]\n",
    "}"
   ]
  },
  {
   "cell_type": "code",
   "execution_count": 35,
   "metadata": {},
   "outputs": [
    {
     "data": {
      "text/plain": [
       "{'max_depth': 50, 'min_samples_leaf': 10}"
      ]
     },
     "execution_count": 35,
     "metadata": {},
     "output_type": "execute_result"
    }
   ],
   "source": [
    "grid = GridSearchCV(DecisionTreeClassifier(), params)\n",
    "grid.fit(X_train_fitted, y_train)\n",
    "\n",
    "grid.best_params_"
   ]
  },
  {
   "cell_type": "code",
   "execution_count": 36,
   "metadata": {},
   "outputs": [
    {
     "name": "stdout",
     "output_type": "stream",
     "text": [
      "Train Accuracy: 0.56\n",
      "Test Accuracy: 0.501\n"
     ]
    }
   ],
   "source": [
    "dt2 = DecisionTreeClassifier(**grid.best_params_)\n",
    "\n",
    "dt2.fit(X_train_fitted, y_train)\n",
    "\n",
    "print(f\"Train Accuracy: {round(dt2.score(X_train_fitted, y_train), 3)}\")\n",
    "print(f\"Test Accuracy: {round(dt2.score(X_test_counts, y_test), 3)}\")"
   ]
  },
  {
   "cell_type": "code",
   "execution_count": 37,
   "metadata": {},
   "outputs": [
    {
     "name": "stdout",
     "output_type": "stream",
     "text": [
      "              precision    recall  f1-score   support\n",
      "\n",
      "     -1:Anti       0.67      0.45      0.54       490\n",
      "   0:Neutral       0.37      0.73      0.49       463\n",
      "       1:Pro       0.56      0.35      0.43       461\n",
      "      2:News       0.65      0.47      0.55       469\n",
      "\n",
      "    accuracy                           0.50      1883\n",
      "   macro avg       0.56      0.50      0.50      1883\n",
      "weighted avg       0.56      0.50      0.50      1883\n",
      "\n"
     ]
    }
   ],
   "source": [
    "dt2_predictions = dt2.predict(X_test_counts)\n",
    "\n",
    "print(classification_report(y_test,dt2_predictions, target_names=['-1:Anti','0:Neutral','1:Pro','2:News']))"
   ]
  },
  {
   "cell_type": "code",
   "execution_count": 38,
   "metadata": {},
   "outputs": [
    {
     "data": {
      "text/html": [
       "<div>\n",
       "<style scoped>\n",
       "    .dataframe tbody tr th:only-of-type {\n",
       "        vertical-align: middle;\n",
       "    }\n",
       "\n",
       "    .dataframe tbody tr th {\n",
       "        vertical-align: top;\n",
       "    }\n",
       "\n",
       "    .dataframe thead th {\n",
       "        text-align: right;\n",
       "    }\n",
       "</style>\n",
       "<table border=\"1\" class=\"dataframe\">\n",
       "  <thead>\n",
       "    <tr style=\"text-align: right;\">\n",
       "      <th></th>\n",
       "      <th>aaa</th>\n",
       "      <th>aaaaaaaaaaa</th>\n",
       "      <th>aaaaaand</th>\n",
       "      <th>aaaaand</th>\n",
       "      <th>aaaand</th>\n",
       "      <th>aan</th>\n",
       "      <th>ab</th>\n",
       "      <th>abaixoassinado</th>\n",
       "      <th>abandon</th>\n",
       "      <th>abbot</th>\n",
       "      <th>...</th>\n",
       "      <th>より</th>\n",
       "      <th>スタリん時代のソ連や毛沢東の文化大革命並のサイエンスに政治的介入だ</th>\n",
       "      <th>名詞</th>\n",
       "      <th>地球温暖化会議</th>\n",
       "      <th>報告書は</th>\n",
       "      <th>欧州が最も大きく地球温暖化の影響を受けていると警告しています</th>\n",
       "      <th>気候変動</th>\n",
       "      <th>申請書のアブストラクトに</th>\n",
       "      <th>米国政府はある研究者に連絡して</th>\n",
       "      <th>ｎｈｋラジオ英会話</th>\n",
       "    </tr>\n",
       "  </thead>\n",
       "  <tbody>\n",
       "    <tr>\n",
       "      <th>0</th>\n",
       "      <td>0.0</td>\n",
       "      <td>0.0</td>\n",
       "      <td>0.0</td>\n",
       "      <td>0.0</td>\n",
       "      <td>0.0</td>\n",
       "      <td>0.0</td>\n",
       "      <td>0.0</td>\n",
       "      <td>0.0</td>\n",
       "      <td>0.0</td>\n",
       "      <td>0.0</td>\n",
       "      <td>...</td>\n",
       "      <td>0.0</td>\n",
       "      <td>0.0</td>\n",
       "      <td>0.0</td>\n",
       "      <td>0.0</td>\n",
       "      <td>0.0</td>\n",
       "      <td>0.0</td>\n",
       "      <td>0.0</td>\n",
       "      <td>0.0</td>\n",
       "      <td>0.0</td>\n",
       "      <td>0.0</td>\n",
       "    </tr>\n",
       "    <tr>\n",
       "      <th>1</th>\n",
       "      <td>0.0</td>\n",
       "      <td>0.0</td>\n",
       "      <td>0.0</td>\n",
       "      <td>0.0</td>\n",
       "      <td>0.0</td>\n",
       "      <td>0.0</td>\n",
       "      <td>0.0</td>\n",
       "      <td>0.0</td>\n",
       "      <td>0.0</td>\n",
       "      <td>0.0</td>\n",
       "      <td>...</td>\n",
       "      <td>0.0</td>\n",
       "      <td>0.0</td>\n",
       "      <td>0.0</td>\n",
       "      <td>0.0</td>\n",
       "      <td>0.0</td>\n",
       "      <td>0.0</td>\n",
       "      <td>0.0</td>\n",
       "      <td>0.0</td>\n",
       "      <td>0.0</td>\n",
       "      <td>0.0</td>\n",
       "    </tr>\n",
       "    <tr>\n",
       "      <th>2</th>\n",
       "      <td>0.0</td>\n",
       "      <td>0.0</td>\n",
       "      <td>0.0</td>\n",
       "      <td>0.0</td>\n",
       "      <td>0.0</td>\n",
       "      <td>0.0</td>\n",
       "      <td>0.0</td>\n",
       "      <td>0.0</td>\n",
       "      <td>0.0</td>\n",
       "      <td>0.0</td>\n",
       "      <td>...</td>\n",
       "      <td>0.0</td>\n",
       "      <td>0.0</td>\n",
       "      <td>0.0</td>\n",
       "      <td>0.0</td>\n",
       "      <td>0.0</td>\n",
       "      <td>0.0</td>\n",
       "      <td>0.0</td>\n",
       "      <td>0.0</td>\n",
       "      <td>0.0</td>\n",
       "      <td>0.0</td>\n",
       "    </tr>\n",
       "    <tr>\n",
       "      <th>3</th>\n",
       "      <td>0.0</td>\n",
       "      <td>0.0</td>\n",
       "      <td>0.0</td>\n",
       "      <td>0.0</td>\n",
       "      <td>0.0</td>\n",
       "      <td>0.0</td>\n",
       "      <td>0.0</td>\n",
       "      <td>0.0</td>\n",
       "      <td>0.0</td>\n",
       "      <td>0.0</td>\n",
       "      <td>...</td>\n",
       "      <td>0.0</td>\n",
       "      <td>0.0</td>\n",
       "      <td>0.0</td>\n",
       "      <td>0.0</td>\n",
       "      <td>0.0</td>\n",
       "      <td>0.0</td>\n",
       "      <td>0.0</td>\n",
       "      <td>0.0</td>\n",
       "      <td>0.0</td>\n",
       "      <td>0.0</td>\n",
       "    </tr>\n",
       "    <tr>\n",
       "      <th>4</th>\n",
       "      <td>0.0</td>\n",
       "      <td>0.0</td>\n",
       "      <td>0.0</td>\n",
       "      <td>0.0</td>\n",
       "      <td>0.0</td>\n",
       "      <td>0.0</td>\n",
       "      <td>0.0</td>\n",
       "      <td>0.0</td>\n",
       "      <td>0.0</td>\n",
       "      <td>0.0</td>\n",
       "      <td>...</td>\n",
       "      <td>0.0</td>\n",
       "      <td>0.0</td>\n",
       "      <td>0.0</td>\n",
       "      <td>0.0</td>\n",
       "      <td>0.0</td>\n",
       "      <td>0.0</td>\n",
       "      <td>0.0</td>\n",
       "      <td>0.0</td>\n",
       "      <td>0.0</td>\n",
       "      <td>0.0</td>\n",
       "    </tr>\n",
       "    <tr>\n",
       "      <th>...</th>\n",
       "      <td>...</td>\n",
       "      <td>...</td>\n",
       "      <td>...</td>\n",
       "      <td>...</td>\n",
       "      <td>...</td>\n",
       "      <td>...</td>\n",
       "      <td>...</td>\n",
       "      <td>...</td>\n",
       "      <td>...</td>\n",
       "      <td>...</td>\n",
       "      <td>...</td>\n",
       "      <td>...</td>\n",
       "      <td>...</td>\n",
       "      <td>...</td>\n",
       "      <td>...</td>\n",
       "      <td>...</td>\n",
       "      <td>...</td>\n",
       "      <td>...</td>\n",
       "      <td>...</td>\n",
       "      <td>...</td>\n",
       "      <td>...</td>\n",
       "    </tr>\n",
       "    <tr>\n",
       "      <th>15814</th>\n",
       "      <td>0.0</td>\n",
       "      <td>0.0</td>\n",
       "      <td>0.0</td>\n",
       "      <td>0.0</td>\n",
       "      <td>0.0</td>\n",
       "      <td>0.0</td>\n",
       "      <td>0.0</td>\n",
       "      <td>0.0</td>\n",
       "      <td>0.0</td>\n",
       "      <td>0.0</td>\n",
       "      <td>...</td>\n",
       "      <td>0.0</td>\n",
       "      <td>0.0</td>\n",
       "      <td>0.0</td>\n",
       "      <td>0.0</td>\n",
       "      <td>0.0</td>\n",
       "      <td>0.0</td>\n",
       "      <td>0.0</td>\n",
       "      <td>0.0</td>\n",
       "      <td>0.0</td>\n",
       "      <td>0.0</td>\n",
       "    </tr>\n",
       "    <tr>\n",
       "      <th>15815</th>\n",
       "      <td>0.0</td>\n",
       "      <td>0.0</td>\n",
       "      <td>0.0</td>\n",
       "      <td>0.0</td>\n",
       "      <td>0.0</td>\n",
       "      <td>0.0</td>\n",
       "      <td>0.0</td>\n",
       "      <td>0.0</td>\n",
       "      <td>0.0</td>\n",
       "      <td>0.0</td>\n",
       "      <td>...</td>\n",
       "      <td>0.0</td>\n",
       "      <td>0.0</td>\n",
       "      <td>0.0</td>\n",
       "      <td>0.0</td>\n",
       "      <td>0.0</td>\n",
       "      <td>0.0</td>\n",
       "      <td>0.0</td>\n",
       "      <td>0.0</td>\n",
       "      <td>0.0</td>\n",
       "      <td>0.0</td>\n",
       "    </tr>\n",
       "    <tr>\n",
       "      <th>15816</th>\n",
       "      <td>0.0</td>\n",
       "      <td>0.0</td>\n",
       "      <td>0.0</td>\n",
       "      <td>0.0</td>\n",
       "      <td>0.0</td>\n",
       "      <td>0.0</td>\n",
       "      <td>0.0</td>\n",
       "      <td>0.0</td>\n",
       "      <td>0.0</td>\n",
       "      <td>0.0</td>\n",
       "      <td>...</td>\n",
       "      <td>0.0</td>\n",
       "      <td>0.0</td>\n",
       "      <td>0.0</td>\n",
       "      <td>0.0</td>\n",
       "      <td>0.0</td>\n",
       "      <td>0.0</td>\n",
       "      <td>0.0</td>\n",
       "      <td>0.0</td>\n",
       "      <td>0.0</td>\n",
       "      <td>0.0</td>\n",
       "    </tr>\n",
       "    <tr>\n",
       "      <th>15817</th>\n",
       "      <td>0.0</td>\n",
       "      <td>0.0</td>\n",
       "      <td>0.0</td>\n",
       "      <td>0.0</td>\n",
       "      <td>0.0</td>\n",
       "      <td>0.0</td>\n",
       "      <td>0.0</td>\n",
       "      <td>0.0</td>\n",
       "      <td>0.0</td>\n",
       "      <td>0.0</td>\n",
       "      <td>...</td>\n",
       "      <td>0.0</td>\n",
       "      <td>0.0</td>\n",
       "      <td>0.0</td>\n",
       "      <td>0.0</td>\n",
       "      <td>0.0</td>\n",
       "      <td>0.0</td>\n",
       "      <td>0.0</td>\n",
       "      <td>0.0</td>\n",
       "      <td>0.0</td>\n",
       "      <td>0.0</td>\n",
       "    </tr>\n",
       "    <tr>\n",
       "      <th>15818</th>\n",
       "      <td>0.0</td>\n",
       "      <td>0.0</td>\n",
       "      <td>0.0</td>\n",
       "      <td>0.0</td>\n",
       "      <td>0.0</td>\n",
       "      <td>0.0</td>\n",
       "      <td>0.0</td>\n",
       "      <td>0.0</td>\n",
       "      <td>0.0</td>\n",
       "      <td>0.0</td>\n",
       "      <td>...</td>\n",
       "      <td>0.0</td>\n",
       "      <td>0.0</td>\n",
       "      <td>0.0</td>\n",
       "      <td>0.0</td>\n",
       "      <td>0.0</td>\n",
       "      <td>0.0</td>\n",
       "      <td>0.0</td>\n",
       "      <td>0.0</td>\n",
       "      <td>0.0</td>\n",
       "      <td>0.0</td>\n",
       "    </tr>\n",
       "  </tbody>\n",
       "</table>\n",
       "<p>15819 rows × 10878 columns</p>\n",
       "</div>"
      ],
      "text/plain": [
       "       aaa  aaaaaaaaaaa  aaaaaand  aaaaand  aaaand  aan   ab  abaixoassinado  \\\n",
       "0      0.0          0.0       0.0      0.0     0.0  0.0  0.0             0.0   \n",
       "1      0.0          0.0       0.0      0.0     0.0  0.0  0.0             0.0   \n",
       "2      0.0          0.0       0.0      0.0     0.0  0.0  0.0             0.0   \n",
       "3      0.0          0.0       0.0      0.0     0.0  0.0  0.0             0.0   \n",
       "4      0.0          0.0       0.0      0.0     0.0  0.0  0.0             0.0   \n",
       "...    ...          ...       ...      ...     ...  ...  ...             ...   \n",
       "15814  0.0          0.0       0.0      0.0     0.0  0.0  0.0             0.0   \n",
       "15815  0.0          0.0       0.0      0.0     0.0  0.0  0.0             0.0   \n",
       "15816  0.0          0.0       0.0      0.0     0.0  0.0  0.0             0.0   \n",
       "15817  0.0          0.0       0.0      0.0     0.0  0.0  0.0             0.0   \n",
       "15818  0.0          0.0       0.0      0.0     0.0  0.0  0.0             0.0   \n",
       "\n",
       "       abandon  abbot  ...   より  スタリん時代のソ連や毛沢東の文化大革命並のサイエンスに政治的介入だ   名詞  \\\n",
       "0          0.0    0.0  ...  0.0                                0.0  0.0   \n",
       "1          0.0    0.0  ...  0.0                                0.0  0.0   \n",
       "2          0.0    0.0  ...  0.0                                0.0  0.0   \n",
       "3          0.0    0.0  ...  0.0                                0.0  0.0   \n",
       "4          0.0    0.0  ...  0.0                                0.0  0.0   \n",
       "...        ...    ...  ...  ...                                ...  ...   \n",
       "15814      0.0    0.0  ...  0.0                                0.0  0.0   \n",
       "15815      0.0    0.0  ...  0.0                                0.0  0.0   \n",
       "15816      0.0    0.0  ...  0.0                                0.0  0.0   \n",
       "15817      0.0    0.0  ...  0.0                                0.0  0.0   \n",
       "15818      0.0    0.0  ...  0.0                                0.0  0.0   \n",
       "\n",
       "       地球温暖化会議  報告書は  欧州が最も大きく地球温暖化の影響を受けていると警告しています  気候変動  申請書のアブストラクトに  \\\n",
       "0          0.0   0.0                             0.0   0.0           0.0   \n",
       "1          0.0   0.0                             0.0   0.0           0.0   \n",
       "2          0.0   0.0                             0.0   0.0           0.0   \n",
       "3          0.0   0.0                             0.0   0.0           0.0   \n",
       "4          0.0   0.0                             0.0   0.0           0.0   \n",
       "...        ...   ...                             ...   ...           ...   \n",
       "15814      0.0   0.0                             0.0   0.0           0.0   \n",
       "15815      0.0   0.0                             0.0   0.0           0.0   \n",
       "15816      0.0   0.0                             0.0   0.0           0.0   \n",
       "15817      0.0   0.0                             0.0   0.0           0.0   \n",
       "15818      0.0   0.0                             0.0   0.0           0.0   \n",
       "\n",
       "       米国政府はある研究者に連絡して  ｎｈｋラジオ英会話  \n",
       "0                  0.0        0.0  \n",
       "1                  0.0        0.0  \n",
       "2                  0.0        0.0  \n",
       "3                  0.0        0.0  \n",
       "4                  0.0        0.0  \n",
       "...                ...        ...  \n",
       "15814              0.0        0.0  \n",
       "15815              0.0        0.0  \n",
       "15816              0.0        0.0  \n",
       "15817              0.0        0.0  \n",
       "15818              0.0        0.0  \n",
       "\n",
       "[15819 rows x 10878 columns]"
      ]
     },
     "execution_count": 38,
     "metadata": {},
     "output_type": "execute_result"
    }
   ],
   "source": [
    "from sklearn.feature_extraction.text import TfidfVectorizer\n",
    "\n",
    "tfidf_vectorizer = TfidfVectorizer()\n",
    "raw2 = raw_stopped\n",
    "raw2['message']=raw2['message'].apply(' '.join)\n",
    "\n",
    "tfidf_matrix = tfidf_vectorizer.fit_transform(raw2['message'])\n",
    "\n",
    "tfidf_df = pd.DataFrame(tfidf_matrix.toarray(), columns=tfidf_vectorizer.get_feature_names_out())\n",
    "tfidf_df"
   ]
  },
  {
   "cell_type": "code",
   "execution_count": 39,
   "metadata": {},
   "outputs": [],
   "source": [
    "import pickle\n",
    "\n",
    "pickle.dump(dt_predections, open(\"dt_predections.pkl\", \"wb\"))\n",
    "pickle.dump(betterVect, open(\"betterVect.pkl\", \"wb\"))"
   ]
  },
  {
   "cell_type": "code",
   "execution_count": null,
   "metadata": {},
   "outputs": [],
   "source": []
  }
 ],
 "metadata": {
  "kernelspec": {
   "display_name": "Python 3 (ipykernel)",
   "language": "python",
   "name": "python3"
  },
  "language_info": {
   "codemirror_mode": {
    "name": "ipython",
    "version": 3
   },
   "file_extension": ".py",
   "mimetype": "text/x-python",
   "name": "python",
   "nbconvert_exporter": "python",
   "pygments_lexer": "ipython3",
   "version": "3.10.13"
  }
 },
 "nbformat": 4,
 "nbformat_minor": 2
}
